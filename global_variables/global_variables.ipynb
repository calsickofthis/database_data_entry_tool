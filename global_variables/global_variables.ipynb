{
 "cells": [
  {
   "cell_type": "code",
   "execution_count": null,
   "id": "4695fdf0",
   "metadata": {},
   "outputs": [],
   "source": [
    "import os\n",
    "from dotenv import load_dotenv\n",
    "\n",
    "# Get current working directory\n",
    "cwd = os.getcwd()\n",
    "\n",
    "# Get direct path of .env file\n",
    "env_path = os.path.join(cwd, '.env')\n",
    "\n",
    "if os.path.exists(env_path):\n",
    "    # Load .env file\n",
    "    load_dotenv(env_path)\n",
    "    api_version = os.getenv('API_VERSION')    \n",
    "    api_url = os.getenv('API_URL')\n",
    "\n",
    "    organisations = os.getenv('ORGANIZATIONS')\n",
    "    machines = os.getenv('MACHINES')\n",
    "    models = os.getenv('MODELS')\n",
    "    timeseries = os.getenv('TIMESERIES')\n",
    "    combi_logging_level = int(os.getenv('LOGGING_LEVEL'))\n",
    "    \n",
    "    # - SERVICE PREDICTION\n",
    "    minimum_data_points = int(os.getenv('MINIMUM_DATA_POINTS'))\n",
    "    necessary_confidence_level = int(os.getenv('NECESSARY_CONFIDENCE_LEVEL'))\n",
    "\n",
    "    service_max_val = int(os.getenv('SERVICE_MAX_VAL'))\n",
    "    service_min_val = int(os.getenv('SERVICE_MIN_VAL'))\n",
    "\n",
    "    service_min_year = int(os.getenv('SERVICE_MIN_YEAR'))\n",
    "    service_max_year = int(os.getenv('SERVICE_MAX_YEAR'))\n",
    "\n",
    "    database_tasks_table_name = os.getenv('DATABASE_TASKS_TABLE_NAME')"
   ]
  }
 ],
 "metadata": {
  "kernelspec": {
   "display_name": "Python 3 (ipykernel)",
   "language": "python",
   "name": "python3"
  },
  "language_info": {
   "codemirror_mode": {
    "name": "ipython",
    "version": 3
   },
   "file_extension": ".py",
   "mimetype": "text/x-python",
   "name": "python",
   "nbconvert_exporter": "python",
   "pygments_lexer": "ipython3",
   "version": "3.9.13"
  }
 },
 "nbformat": 4,
 "nbformat_minor": 5
}
