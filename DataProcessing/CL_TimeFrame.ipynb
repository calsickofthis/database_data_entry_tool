{
 "cells": [
  {
   "cell_type": "code",
   "execution_count": null,
   "id": "178c402f-4d26-4daa-bb54-17a006585065",
   "metadata": {
    "tags": []
   },
   "outputs": [],
   "source": [
    "if DT_start.value is None:\n",
    "    print(\"--- START Date must be selected ---\")\n",
    "else:\n",
    "    DT_start.value"
   ]
  },
  {
   "cell_type": "code",
   "execution_count": null,
   "id": "a3314ee1-aaa4-47f9-9f21-4860acfa8728",
   "metadata": {
    "tags": []
   },
   "outputs": [],
   "source": [
    "if DT_end.value is None:\n",
    "    print(\"--- END Date must be selected ---\")\n",
    "else:\n",
    "    DT_end.value"
   ]
  },
  {
   "cell_type": "code",
   "execution_count": null,
   "id": "db9243ba-3a93-4195-963a-e53d101e7d7f",
   "metadata": {},
   "outputs": [],
   "source": [
    "date_and_time = datetime.datetime.combine(DT_start.value, datetime.time(0, 0))\n",
    "Date_from = date_and_time.timestamp() * 1000\n",
    "date_and_time = datetime.datetime.combine(DT_end.value, datetime.time(0, 0))\n",
    "Date_to = (date_and_time.timestamp() + 86400) * 1000\n",
    "\n",
    "if Date_to < Date_from:\n",
    "        print(\"--- END DATE MUST BE AFTER START DATE ---\")\n",
    "else:\n",
    "    z = 0\n",
    "   "
   ]
  },
  {
   "cell_type": "code",
   "execution_count": null,
   "id": "b779abc3-5ec7-4d44-b78c-9f63aa6ac6b0",
   "metadata": {},
   "outputs": [],
   "source": []
  }
 ],
 "metadata": {
  "kernelspec": {
   "display_name": "Python 3 (ipykernel)",
   "language": "python",
   "name": "python3"
  },
  "language_info": {
   "codemirror_mode": {
    "name": "ipython",
    "version": 3
   },
   "file_extension": ".py",
   "mimetype": "text/x-python",
   "name": "python",
   "nbconvert_exporter": "python",
   "pygments_lexer": "ipython3",
   "version": "3.9.13"
  }
 },
 "nbformat": 4,
 "nbformat_minor": 5
}
