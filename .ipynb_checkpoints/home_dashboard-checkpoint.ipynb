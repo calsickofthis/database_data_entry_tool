{
 "cells": [
  {
   "cell_type": "markdown",
   "id": "4499f568-c673-4a26-976c-57db480fe22f",
   "metadata": {},
   "source": [
    "<span><img align=\"left\" src =\"https://combilift.com/wp-content/uploads/2021/09/Combilift-Web-Logo_sm.png\" width=\"170\" /></span> <br/><br/>\n",
    "### Data entry tool\n",
    "#### This tool is for adding tasks to the telematics project until a server is set up"
   ]
  },
  {
   "cell_type": "markdown",
   "id": "f1a76dd9-afeb-4b84-a099-65efd31a3dcb",
   "metadata": {},
   "source": [
    "### Login"
   ]
  },
  {
   "cell_type": "code",
   "execution_count": 36,
   "id": "ae8a23ec-f7ad-4350-bb6b-1daa422658f7",
   "metadata": {},
   "outputs": [
    {
     "name": "stdout",
     "output_type": "stream",
     "text": [
      "Connected machines: 169\n",
      "Login: Success ✔\n",
      "<mysql.connector.connection.MySQLConnection object at 0x000001F06DB2DF70>\n"
     ]
    }
   ],
   "source": [
    "# connect to api\n",
    "\n",
    "%run ./DataAccess/CL_Login.ipynb\n",
    "\n",
    "# connect to database\n",
    "\n",
    "import mysql.connector\n",
    "\n",
    "mydb = mysql.connector.connect(\n",
    "    host=\"localhost\",\n",
    "    user=\"root\",\n",
    "    password=\"Z%Br6}5+cBg9yN<y\",\n",
    "    database=\"testdatabase\"\n",
    ")\n",
    "\n",
    "print(mydb)\n"
   ]
  },
  {
   "cell_type": "markdown",
   "id": "7802f758-6fac-4226-8b74-3d0cb2399e9a",
   "metadata": {},
   "source": [
    "### Organization"
   ]
  },
  {
   "cell_type": "code",
   "execution_count": 37,
   "id": "96bd97ac-3584-44c5-8cca-566a5b6e913e",
   "metadata": {},
   "outputs": [
    {
     "data": {
      "application/vnd.jupyter.widget-view+json": {
       "model_id": "52abe2884d03421c8bb771df1e2938d0",
       "version_major": 2,
       "version_minor": 0
      },
      "text/plain": [
       "Select(description='Select Organisation', options=(('Meherrin River', '0ba082a0-df39-4021-b2df-be4ea9af6900'),…"
      ]
     },
     "metadata": {},
     "output_type": "display_data"
    }
   ],
   "source": [
    "%run ./DataAccess/CL_Get_Org.ipynb\n",
    "%run ./DashboardWidgets/Widget_Org.ipynb"
   ]
  },
  {
   "cell_type": "markdown",
   "id": "61b59f5d-7340-4e58-b334-4504c2c9dba0",
   "metadata": {
    "tags": []
   },
   "source": [
    "### Model"
   ]
  },
  {
   "cell_type": "code",
   "execution_count": 38,
   "id": "4e719801-b4b2-465f-be02-c6bb306baf79",
   "metadata": {},
   "outputs": [
    {
     "data": {
      "application/vnd.jupyter.widget-view+json": {
       "model_id": "3f694919ee6043c5a4c4610b7d6208ff",
       "version_major": 2,
       "version_minor": 0
      },
      "text/plain": [
       "Select(description='Select Model', options=(('CB', '007d4401-82b6-47ab-8eb0-6552fa489764'), ('C Series', '0b08…"
      ]
     },
     "metadata": {},
     "output_type": "display_data"
    }
   ],
   "source": [
    "%run ./DataAccess/CL_Get_Models.ipynb\n",
    "%run ./DashboardWidgets/Widget_Model.ipynb"
   ]
  },
  {
   "cell_type": "markdown",
   "id": "c8af3e8d-2126-4408-b8f2-f7691e8fefa6",
   "metadata": {
    "tags": []
   },
   "source": [
    "### Machine"
   ]
  },
  {
   "cell_type": "code",
   "execution_count": 44,
   "id": "a3b8a123-2407-4a43-91ea-a1cde0af269f",
   "metadata": {},
   "outputs": [
    {
     "data": {
      "application/vnd.jupyter.widget-view+json": {
       "model_id": "df09b825fa764909b5340ae6342cf373",
       "version_major": 2,
       "version_minor": 0
      },
      "text/plain": [
       "SelectMultiple(description='Select Machine', layout=Layout(height='initial'), options=(('C4000ET 72508', '1565…"
      ]
     },
     "metadata": {},
     "output_type": "display_data"
    }
   ],
   "source": [
    "%run ./DataAccess/CL_Get_Machine.ipynb\n",
    "%run ./DashboardWidgets/Widget_Machine.ipynb"
   ]
  },
  {
   "cell_type": "markdown",
   "id": "eea3ea0a-6dae-4ac1-9d04-407aee6b8947",
   "metadata": {
    "tags": []
   },
   "source": [
    "### Dates"
   ]
  },
  {
   "cell_type": "code",
   "execution_count": 45,
   "id": "1ff13861-3fc1-4c4e-af95-0a1425a72c27",
   "metadata": {},
   "outputs": [
    {
     "data": {
      "application/vnd.jupyter.widget-view+json": {
       "model_id": "fb4cd10706974a19ace76e6bcb57166f",
       "version_major": 2,
       "version_minor": 0
      },
      "text/plain": [
       "DatePicker(value=None, description='Start Date', step=1)"
      ]
     },
     "metadata": {},
     "output_type": "display_data"
    },
    {
     "data": {
      "application/vnd.jupyter.widget-view+json": {
       "model_id": "6454f21e7d19438ab8c7c74ee4141600",
       "version_major": 2,
       "version_minor": 0
      },
      "text/plain": [
       "DatePicker(value=None, description='End Date', step=1)"
      ]
     },
     "metadata": {},
     "output_type": "display_data"
    },
    {
     "data": {
      "application/vnd.jupyter.widget-view+json": {
       "model_id": "ff9e77acafcc46bdbabf90dc7f41b7ec",
       "version_major": 2,
       "version_minor": 0
      },
      "text/plain": [
       "Dropdown(description='Select time you prefer', options=('Please select', 'last 2 weeks', 'last 4 weeks', 'last…"
      ]
     },
     "metadata": {},
     "output_type": "display_data"
    },
    {
     "name": "stdout",
     "output_type": "stream",
     "text": [
      "changed to 4 weeks\n"
     ]
    }
   ],
   "source": [
    "%run ./DashboardWidgets/Widget_TimeFrame.ipynb\n",
    "%run ./DashboardWidgets/timeseries_dropdown.ipynb"
   ]
  },
  {
   "cell_type": "code",
   "execution_count": 46,
   "id": "dbf68516-557a-451b-a897-3cca397f6641",
   "metadata": {},
   "outputs": [],
   "source": [
    "%run ./DataProcessing/CL_TimeFrame.ipynb"
   ]
  },
  {
   "cell_type": "code",
   "execution_count": 47,
   "id": "025d77d7",
   "metadata": {},
   "outputs": [],
   "source": [
    "from datetime import date\n",
    "from datetime import datetime\n",
    "\n",
    "# get variables\n",
    "organisation = selected_org.label\n",
    "# machine_id = selected_machine.value\n",
    "analysis_start_time = datetime.combine(DT_start.value, datetime.min.time()).timestamp()\n",
    "analysis_end_time = datetime.combine(DT_end.value, datetime.min.time()).timestamp()"
   ]
  },
  {
   "cell_type": "code",
   "execution_count": 48,
   "id": "def8f586",
   "metadata": {},
   "outputs": [
    {
     "name": "stdout",
     "output_type": "stream",
     "text": [
      "1 was inserted.\n",
      "1 was inserted.\n",
      "1 was inserted.\n",
      "1 was inserted.\n",
      "1 was inserted.\n",
      "1 was inserted.\n"
     ]
    }
   ],
   "source": [
    "#  push to database\n",
    "\n",
    "for machine_id in selected_machine.value:\n",
    "    try:\n",
    "        mycursor = mydb.cursor()\n",
    "\n",
    "        sql = \"INSERT INTO telematics_tasks (organisation, machine_id, analysis_start_time, analysis_end_time) VALUES (%s, %s, %s, %s)\"\n",
    "        val = [\n",
    "          (organisation, machine_id, int(analysis_start_time),int(analysis_end_time)),]\n",
    "\n",
    "        mycursor.executemany(sql, val)\n",
    "\n",
    "        mydb.commit()\n",
    "\n",
    "        print(mycursor.rowcount, \"was inserted.\")\n",
    "    except:\n",
    "        print('error in inserting to database')"
   ]
  },
  {
   "cell_type": "code",
   "execution_count": 51,
   "id": "3ec789b8",
   "metadata": {},
   "outputs": [
    {
     "name": "stdout",
     "output_type": "stream",
     "text": [
      "(1, 'combilift', '147552', 1683414000, 1686092400)\n",
      "(2, 'combilift', '147552', 1683414000, 1686092400)\n",
      "(3, 'combilift', '155853', 168341400, 1686092400)\n",
      "(4, 'Combilift', '156583', 1670371200, 1686178800)\n",
      "(5, 'Combilift', '156583', 1670371200, 1686178800)\n",
      "(6, 'Combilift', '147552', 1670371200, 1686178800)\n",
      "(7, 'Combilift', '147552', 1670371200, 1686178800)\n",
      "(8, 'Combilift', '147553', 1670371200, 1686178800)\n",
      "(9, 'Combilift', '155839', 1670371200, 1686178800)\n",
      "(10, 'Combilift', '155848', 1670371200, 1686178800)\n",
      "(11, 'Combilift', '155850', 1670371200, 1686178800)\n",
      "(12, 'Combilift', '155853', 1670371200, 1686178800)\n",
      "(13, 'Combilift', '155854', 1670371200, 1686178800)\n",
      "(14, 'Combilift', '156583', 1670371200, 1686178800)\n",
      "(15, 'Combilift', '226899', 1684969200, 1686178800)\n",
      "(16, 'Combilift', '226901', 1684969200, 1686178800)\n",
      "(17, 'Combilift', '226908', 1684969200, 1686178800)\n",
      "(18, 'Combilift', '153723', 1683759600, 1686178800)\n",
      "(19, 'Combilift', '162656', 1683759600, 1686178800)\n",
      "(20, 'Combilift', '186453', 1683759600, 1686178800)\n",
      "(21, 'Combilift', '186454', 1683759600, 1686178800)\n",
      "(22, 'Combilift', '186455', 1683759600, 1686178800)\n",
      "(23, 'Combilift', '186473', 1683759600, 1686178800)\n",
      "(24, 'Combilift', '186475', 1683759600, 1686178800)\n",
      "(25, 'Combilift', '186476', 1683759600, 1686178800)\n",
      "(26, 'Combilift', '186477', 1683759600, 1686178800)\n",
      "(27, 'Combilift', '186478', 1683759600, 1686178800)\n",
      "(28, 'Combilift', '186479', 1683759600, 1686178800)\n",
      "(29, 'Combilift', '198450', 1683759600, 1686178800)\n",
      "(30, 'Combilift', '198451', 1683759600, 1686178800)\n",
      "(31, 'Combilift', '219222', 1683759600, 1686178800)\n",
      "(32, 'Combilift', '219224', 1683759600, 1686178800)\n",
      "(33, 'Combilift', '219225', 1683759600, 1686178800)\n",
      "(34, 'Combilift', '219239', 1683759600, 1686178800)\n",
      "(35, 'Combilift', '230072', 1683759600, 1686178800)\n",
      "(36, 'Combilift', '230083', 1683759600, 1686178800)\n",
      "(37, 'James Latham', '156532', 1683759600, 1686178800)\n",
      "(38, 'James Latham', '212350', 1683759600, 1686178800)\n",
      "(39, 'James Latham', '212351', 1683759600, 1686178800)\n",
      "(40, 'James Latham', '225453', 1683759600, 1686178800)\n",
      "(41, 'James Latham', '225462', 1683759600, 1686178800)\n",
      "(42, 'James Latham', '225463', 1683759600, 1686178800)\n"
     ]
    }
   ],
   "source": [
    "# execute your query\n",
    "mycursor.execute(\"SELECT * FROM telematics_tasks\")\n",
    "  \n",
    "# fetch all the matching rows\n",
    "result = mycursor.fetchall()\n",
    "\n",
    "listed_tasks = []\n",
    "\n",
    "# loop through the rows\n",
    "for row in result:\n",
    "#     print(row)\n",
    "    listed_tasks.append(row)"
   ]
  },
  {
   "cell_type": "code",
   "execution_count": 50,
   "id": "3e342c47",
   "metadata": {},
   "outputs": [
    {
     "name": "stdout",
     "output_type": "stream",
     "text": [
      "there are 42 machines scheduled for reports\n",
      "- - - - - - - - - - - - - - - - - - - - - - - - - - - - - -\n",
      "|id|organisatoin|serial num| start time | end time |\n",
      "|1|combilift|147552|2023-05-07 00:00:00|2023-06-07 00:00:00\n",
      "|2|combilift|147552|2023-05-07 00:00:00|2023-06-07 00:00:00\n",
      "|3|combilift|155853|1975-05-03 10:30:00|2023-06-07 00:00:00\n",
      "|4|Combilift|156583|2022-12-07 00:00:00|2023-06-08 00:00:00\n",
      "|5|Combilift|156583|2022-12-07 00:00:00|2023-06-08 00:00:00\n",
      "|6|Combilift|147552|2022-12-07 00:00:00|2023-06-08 00:00:00\n",
      "|7|Combilift|147552|2022-12-07 00:00:00|2023-06-08 00:00:00\n",
      "|8|Combilift|147553|2022-12-07 00:00:00|2023-06-08 00:00:00\n",
      "|9|Combilift|155839|2022-12-07 00:00:00|2023-06-08 00:00:00\n",
      "|10|Combilift|155848|2022-12-07 00:00:00|2023-06-08 00:00:00\n",
      "|11|Combilift|155850|2022-12-07 00:00:00|2023-06-08 00:00:00\n",
      "|12|Combilift|155853|2022-12-07 00:00:00|2023-06-08 00:00:00\n",
      "|13|Combilift|155854|2022-12-07 00:00:00|2023-06-08 00:00:00\n",
      "|14|Combilift|156583|2022-12-07 00:00:00|2023-06-08 00:00:00\n",
      "|15|Combilift|226899|2023-05-25 00:00:00|2023-06-08 00:00:00\n",
      "|16|Combilift|226901|2023-05-25 00:00:00|2023-06-08 00:00:00\n",
      "|17|Combilift|226908|2023-05-25 00:00:00|2023-06-08 00:00:00\n",
      "|18|Combilift|153723|2023-05-11 00:00:00|2023-06-08 00:00:00\n",
      "|19|Combilift|162656|2023-05-11 00:00:00|2023-06-08 00:00:00\n",
      "|20|Combilift|186453|2023-05-11 00:00:00|2023-06-08 00:00:00\n",
      "|21|Combilift|186454|2023-05-11 00:00:00|2023-06-08 00:00:00\n",
      "|22|Combilift|186455|2023-05-11 00:00:00|2023-06-08 00:00:00\n",
      "|23|Combilift|186473|2023-05-11 00:00:00|2023-06-08 00:00:00\n",
      "|24|Combilift|186475|2023-05-11 00:00:00|2023-06-08 00:00:00\n",
      "|25|Combilift|186476|2023-05-11 00:00:00|2023-06-08 00:00:00\n",
      "|26|Combilift|186477|2023-05-11 00:00:00|2023-06-08 00:00:00\n",
      "|27|Combilift|186478|2023-05-11 00:00:00|2023-06-08 00:00:00\n",
      "|28|Combilift|186479|2023-05-11 00:00:00|2023-06-08 00:00:00\n",
      "|29|Combilift|198450|2023-05-11 00:00:00|2023-06-08 00:00:00\n",
      "|30|Combilift|198451|2023-05-11 00:00:00|2023-06-08 00:00:00\n",
      "|31|Combilift|219222|2023-05-11 00:00:00|2023-06-08 00:00:00\n",
      "|32|Combilift|219224|2023-05-11 00:00:00|2023-06-08 00:00:00\n",
      "|33|Combilift|219225|2023-05-11 00:00:00|2023-06-08 00:00:00\n",
      "|34|Combilift|219239|2023-05-11 00:00:00|2023-06-08 00:00:00\n",
      "|35|Combilift|230072|2023-05-11 00:00:00|2023-06-08 00:00:00\n",
      "|36|Combilift|230083|2023-05-11 00:00:00|2023-06-08 00:00:00\n",
      "|37|James Latham|156532|2023-05-11 00:00:00|2023-06-08 00:00:00\n",
      "|38|James Latham|212350|2023-05-11 00:00:00|2023-06-08 00:00:00\n",
      "|39|James Latham|212351|2023-05-11 00:00:00|2023-06-08 00:00:00\n",
      "|40|James Latham|225453|2023-05-11 00:00:00|2023-06-08 00:00:00\n",
      "|41|James Latham|225462|2023-05-11 00:00:00|2023-06-08 00:00:00\n",
      "|42|James Latham|225463|2023-05-11 00:00:00|2023-06-08 00:00:00\n"
     ]
    }
   ],
   "source": [
    "# execute your query\n",
    "mycursor.execute(\"SELECT * FROM telematics_tasks\")\n",
    "  \n",
    "# fetch all the matching rows \n",
    "result = mycursor.fetchall()\n",
    "\n",
    "print('there are ' + str(result[-1][0]) + ' machines scheduled for reports')\n",
    "\n",
    "print('- - - - - - - - - - - - - - - - - - - - - - - - - - - - - -')\n",
    "\n",
    "print('|id|organisatoin|serial num| start time | end time |')\n",
    "\n",
    "# loop through the rows\n",
    "for row in result:\n",
    "#     print(row)\n",
    "\n",
    "    report_id, organisation_entry, machine_serial_entry, start_time_entry, end_time_entry = row\n",
    "    print('|' + str(report_id) + '|' + organisation_entry + '|' + machine_serial_entry + '|' + str(datetime.fromtimestamp(start_time_entry)) + '|' + str(datetime.fromtimestamp(end_time_entry)))"
   ]
  }
 ],
 "metadata": {
  "kernelspec": {
   "display_name": "Python 3 (ipykernel)",
   "language": "python",
   "name": "python3"
  },
  "language_info": {
   "codemirror_mode": {
    "name": "ipython",
    "version": 3
   },
   "file_extension": ".py",
   "mimetype": "text/x-python",
   "name": "python",
   "nbconvert_exporter": "python",
   "pygments_lexer": "ipython3",
   "version": "3.9.13"
  }
 },
 "nbformat": 4,
 "nbformat_minor": 5
}
