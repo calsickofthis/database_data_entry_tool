{
 "cells": [
  {
   "cell_type": "markdown",
   "id": "4499f568-c673-4a26-976c-57db480fe22f",
   "metadata": {},
   "source": [
    "<span><img align=\"left\" src =\"https://combilift.com/wp-content/uploads/2021/09/Combilift-Web-Logo_sm.png\" width=\"170\" /></span> <br/><br/>\n",
    "### Data entry tool\n",
    "<hr>\n",
    "\n",
    "#### This tool is for adding tasks to the telematics project until a server is set up"
   ]
  },
  {
   "cell_type": "code",
   "execution_count": null,
   "id": "bc8caa37",
   "metadata": {},
   "outputs": [],
   "source": [
    "#libraries\n",
    "from datetime import date\n",
    "from datetime import datetime"
   ]
  },
  {
   "cell_type": "markdown",
   "id": "f1a76dd9-afeb-4b84-a099-65efd31a3dcb",
   "metadata": {},
   "source": [
    "### Login"
   ]
  },
  {
   "cell_type": "code",
   "execution_count": 23,
   "id": "ae8a23ec-f7ad-4350-bb6b-1daa422658f7",
   "metadata": {
    "scrolled": true
   },
   "outputs": [
    {
     "name": "stdout",
     "output_type": "stream",
     "text": [
      "<mysql.connector.connection.MySQLConnection object at 0x0000027417B5ACA0>\n"
     ]
    }
   ],
   "source": [
    "%run ./Database/dbConnect.ipynb"
   ]
  },
  {
   "cell_type": "markdown",
   "id": "7802f758-6fac-4226-8b74-3d0cb2399e9a",
   "metadata": {},
   "source": [
    "### Organization"
   ]
  },
  {
   "cell_type": "code",
   "execution_count": 2,
   "id": "96bd97ac-3584-44c5-8cca-566a5b6e913e",
   "metadata": {},
   "outputs": [
    {
     "data": {
      "application/vnd.jupyter.widget-view+json": {
       "model_id": "8dad4a10d439485cbe07d7f6665b9b11",
       "version_major": 2,
       "version_minor": 0
      },
      "text/plain": [
       "Select(description='Select Organisation', options=(('Meherrin River', '0ba082a0-df39-4021-b2df-be4ea9af6900'),…"
      ]
     },
     "metadata": {},
     "output_type": "display_data"
    }
   ],
   "source": [
    "%run ./DataAccess/CL_Get_Org.ipynb\n",
    "%run ./DashboardWidgets/Widget_Org.ipynb"
   ]
  },
  {
   "cell_type": "markdown",
   "id": "61b59f5d-7340-4e58-b334-4504c2c9dba0",
   "metadata": {
    "tags": []
   },
   "source": [
    "### Model"
   ]
  },
  {
   "cell_type": "code",
   "execution_count": 3,
   "id": "4e719801-b4b2-465f-be02-c6bb306baf79",
   "metadata": {},
   "outputs": [
    {
     "data": {
      "application/vnd.jupyter.widget-view+json": {
       "model_id": "4388019a1df345b0a6da037f68a1d3ff",
       "version_major": 2,
       "version_minor": 0
      },
      "text/plain": [
       "Select(description='Select Model', options=(('CB', '007d4401-82b6-47ab-8eb0-6552fa489764'), ('C Series', '0b08…"
      ]
     },
     "metadata": {},
     "output_type": "display_data"
    }
   ],
   "source": [
    "%run ./DataAccess/CL_Get_Models.ipynb\n",
    "%run ./DashboardWidgets/Widget_Model.ipynb"
   ]
  },
  {
   "cell_type": "markdown",
   "id": "c8af3e8d-2126-4408-b8f2-f7691e8fefa6",
   "metadata": {
    "tags": []
   },
   "source": [
    "### Machine"
   ]
  },
  {
   "cell_type": "code",
   "execution_count": 5,
   "id": "a3b8a123-2407-4a43-91ea-a1cde0af269f",
   "metadata": {},
   "outputs": [
    {
     "data": {
      "application/vnd.jupyter.widget-view+json": {
       "model_id": "e42676a0b9e847a393456540d6337c88",
       "version_major": 2,
       "version_minor": 0
      },
      "text/plain": [
       "SelectMultiple(description='Select Machine', layout=Layout(height='initial'), options=(('MR4 4t 59265', '14755…"
      ]
     },
     "metadata": {},
     "output_type": "display_data"
    }
   ],
   "source": [
    "%run ./DataAccess/CL_Get_Machine.ipynb\n",
    "%run ./DashboardWidgets/Widget_Machine.ipynb"
   ]
  },
  {
   "cell_type": "markdown",
   "id": "eea3ea0a-6dae-4ac1-9d04-407aee6b8947",
   "metadata": {
    "tags": []
   },
   "source": [
    "### Dates"
   ]
  },
  {
   "cell_type": "code",
   "execution_count": 6,
   "id": "1ff13861-3fc1-4c4e-af95-0a1425a72c27",
   "metadata": {},
   "outputs": [
    {
     "data": {
      "application/vnd.jupyter.widget-view+json": {
       "model_id": "44aa9e93aa154ebe92cdb42f05885fde",
       "version_major": 2,
       "version_minor": 0
      },
      "text/plain": [
       "DatePicker(value=None, description='Start Date', step=1)"
      ]
     },
     "metadata": {},
     "output_type": "display_data"
    },
    {
     "data": {
      "application/vnd.jupyter.widget-view+json": {
       "model_id": "6ab3bd047a1740f8a1ae04b0dc414c79",
       "version_major": 2,
       "version_minor": 0
      },
      "text/plain": [
       "DatePicker(value=None, description='End Date', step=1)"
      ]
     },
     "metadata": {},
     "output_type": "display_data"
    },
    {
     "data": {
      "application/vnd.jupyter.widget-view+json": {
       "model_id": "95021c0196f34a0c9d493e30e4ffbf46",
       "version_major": 2,
       "version_minor": 0
      },
      "text/plain": [
       "Dropdown(description='Select time you prefer', options=('Please select', 'last 2 weeks', 'last 4 weeks', 'last…"
      ]
     },
     "metadata": {},
     "output_type": "display_data"
    },
    {
     "name": "stdout",
     "output_type": "stream",
     "text": [
      "changed to 4 weeks\n"
     ]
    }
   ],
   "source": [
    "%run ./DashboardWidgets/Widget_TimeFrame.ipynb\n",
    "%run ./DashboardWidgets/timeseries_dropdown.ipynb"
   ]
  },
  {
   "cell_type": "code",
   "execution_count": 7,
   "id": "dbf68516-557a-451b-a897-3cca397f6641",
   "metadata": {},
   "outputs": [],
   "source": [
    "%run ./DataProcessing/CL_TimeFrame.ipynb"
   ]
  },
  {
   "cell_type": "code",
   "execution_count": 24,
   "id": "025d77d7",
   "metadata": {},
   "outputs": [],
   "source": [
    "# get variables\n",
    "organisation = selected_org.label\n",
    "# machine_id = selected_machine.value\n",
    "analysis_start_time = datetime.combine(DT_start.value, datetime.min.time()).timestamp()\n",
    "analysis_end_time = datetime.combine(DT_end.value, datetime.min.time()).timestamp()"
   ]
  },
  {
   "cell_type": "code",
   "execution_count": 9,
   "id": "def8f586",
   "metadata": {},
   "outputs": [
    {
     "name": "stdout",
     "output_type": "stream",
     "text": [
      "1 was inserted.\n"
     ]
    }
   ],
   "source": [
    "#  push to database\n",
    "\n",
    "for machine_id in selected_machine.value:\n",
    "    try:\n",
    "        mycursor = mydb.cursor()\n",
    "\n",
    "        sql = \"INSERT INTO telematics_tasks (organisation, machine_id, analysis_start_time, analysis_end_time) VALUES (%s, %s, %s, %s)\"\n",
    "        val = [(organisation, machine_id, int(analysis_start_time),int(analysis_end_time)),]\n",
    "\n",
    "        mycursor.executemany(sql, val)\n",
    "\n",
    "        mydb.commit()\n",
    "\n",
    "        print(mycursor.rowcount, \"was inserted.\")\n",
    "    except:\n",
    "        print('error in inserting to database')"
   ]
  }
 ],
 "metadata": {
  "kernelspec": {
   "display_name": "Python 3 (ipykernel)",
   "language": "python",
   "name": "python3"
  },
  "language_info": {
   "codemirror_mode": {
    "name": "ipython",
    "version": 3
   },
   "file_extension": ".py",
   "mimetype": "text/x-python",
   "name": "python",
   "nbconvert_exporter": "python",
   "pygments_lexer": "ipython3",
   "version": "3.9.13"
  }
 },
 "nbformat": 4,
 "nbformat_minor": 5
}
