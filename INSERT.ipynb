{
 "cells": [
  {
   "cell_type": "markdown",
   "id": "4499f568-c673-4a26-976c-57db480fe22f",
   "metadata": {},
   "source": [
    "<span><img align=\"left\" src =\"https://combilift.com/wp-content/uploads/2021/09/Combilift-Web-Logo_sm.png\" width=\"170\" /></span> <br/><br/>\n",
    "### Data entry tool\n",
    "<hr>\n",
    "\n",
    "#### This tool is for adding tasks to the telematics project until a server is set up"
   ]
  },
  {
   "cell_type": "markdown",
   "id": "cb50fdcc",
   "metadata": {},
   "source": [
    "# Global Variables"
   ]
  },
  {
   "cell_type": "code",
   "execution_count": 1,
   "id": "3047f9ac",
   "metadata": {},
   "outputs": [],
   "source": [
    "# %run ./global_variables/global_variables.ipynb\n",
    "import os\n",
    "from dotenv import load_dotenv\n",
    "\n",
    "# Get current working directory\n",
    "cwd = os.getcwd()\n",
    "\n",
    "# Get direct path of .env file\n",
    "env_path = os.path.join(cwd, '.env')\n",
    "\n",
    "if os.path.exists(env_path):\n",
    "    # Load .env file\n",
    "    load_dotenv(env_path)\n",
    "    api_version = os.getenv('API_VERSION')    \n",
    "    api_url = os.getenv('API_URL')\n",
    "\n",
    "    organisations = os.getenv('ORGANIZATIONS')\n",
    "    machines = os.getenv('MACHINES')\n",
    "    models = os.getenv('MODELS')\n",
    "    timeseries = os.getenv('TIMESERIES')\n",
    "    combi_logging_level = int(os.getenv('LOGGING_LEVEL'))\n",
    "    \n",
    "    # - SERVICE PREDICTION\n",
    "    minimum_data_points = int(os.getenv('MINIMUM_DATA_POINTS'))\n",
    "    necessary_confidence_level = int(os.getenv('NECESSARY_CONFIDENCE_LEVEL'))\n",
    "\n",
    "    service_max_val = int(os.getenv('SERVICE_MAX_VAL'))\n",
    "    service_min_val = int(os.getenv('SERVICE_MIN_VAL'))\n",
    "\n",
    "    service_min_year = int(os.getenv('SERVICE_MIN_YEAR'))\n",
    "    service_max_year = int(os.getenv('SERVICE_MAX_YEAR'))\n",
    "\n",
    "    database_tasks_table_name = os.getenv('DATABASE_TASKS_TABLE_NAME')"
   ]
  },
  {
   "cell_type": "markdown",
   "id": "f1a76dd9-afeb-4b84-a099-65efd31a3dcb",
   "metadata": {},
   "source": [
    "### Login"
   ]
  },
  {
   "cell_type": "code",
   "execution_count": 2,
   "id": "ae8a23ec-f7ad-4350-bb6b-1daa422658f7",
   "metadata": {
    "scrolled": true
   },
   "outputs": [
    {
     "name": "stdout",
     "output_type": "stream",
     "text": [
      "Connected machines: 187\n",
      "Login: Success ✔\n"
     ]
    }
   ],
   "source": [
    "%run ./Database/dbConnect.ipynb\n",
    "%run ./DataAccess/CL_Login.ipynb"
   ]
  },
  {
   "cell_type": "markdown",
   "id": "7802f758-6fac-4226-8b74-3d0cb2399e9a",
   "metadata": {},
   "source": [
    "### Organization"
   ]
  },
  {
   "cell_type": "code",
   "execution_count": 3,
   "id": "96bd97ac-3584-44c5-8cca-566a5b6e913e",
   "metadata": {},
   "outputs": [
    {
     "data": {
      "application/vnd.jupyter.widget-view+json": {
       "model_id": "8f0e54a383e74e96b49c38a51e82b6cf",
       "version_major": 2,
       "version_minor": 0
      },
      "text/plain": [
       "Select(description='Select Organisation', options=(('Meherrin River', '0ba082a0-df39-4021-b2df-be4ea9af6900'),…"
      ]
     },
     "metadata": {},
     "output_type": "display_data"
    }
   ],
   "source": [
    "%run ./DataAccess/CL_Get_Org.ipynb\n",
    "\n",
    "org_list = get_organisations(api_call_headers)\n",
    "\n",
    "%run ./DashboardWidgets/Widget_Org.ipynb"
   ]
  },
  {
   "cell_type": "markdown",
   "id": "61b59f5d-7340-4e58-b334-4504c2c9dba0",
   "metadata": {
    "tags": []
   },
   "source": [
    "### Model"
   ]
  },
  {
   "cell_type": "code",
   "execution_count": 4,
   "id": "4e719801-b4b2-465f-be02-c6bb306baf79",
   "metadata": {},
   "outputs": [
    {
     "data": {
      "application/vnd.jupyter.widget-view+json": {
       "model_id": "6c50b7d2631e41429e989480fcd60d5e",
       "version_major": 2,
       "version_minor": 0
      },
      "text/plain": [
       "Select(description='Select Model', options=(('CB', '007d4401-82b6-47ab-8eb0-6552fa489764'), ('C Series', '0b08…"
      ]
     },
     "metadata": {},
     "output_type": "display_data"
    }
   ],
   "source": [
    "%run ./DataAccess/CL_Get_Models.ipynb\n",
    "%run ./DashboardWidgets/Widget_Model.ipynb"
   ]
  },
  {
   "cell_type": "markdown",
   "id": "c8af3e8d-2126-4408-b8f2-f7691e8fefa6",
   "metadata": {
    "tags": []
   },
   "source": [
    "### Machine"
   ]
  },
  {
   "cell_type": "code",
   "execution_count": 5,
   "id": "a3b8a123-2407-4a43-91ea-a1cde0af269f",
   "metadata": {},
   "outputs": [
    {
     "data": {
      "application/vnd.jupyter.widget-view+json": {
       "model_id": "4eb634c4c77c4c4aafffc19fe27bac35",
       "version_major": 2,
       "version_minor": 0
      },
      "text/plain": [
       "SelectMultiple(description='Select Machine', layout=Layout(height='initial'), options=(('MR4 4t 59265', '14755…"
      ]
     },
     "metadata": {},
     "output_type": "display_data"
    }
   ],
   "source": [
    "%run ./DataAccess/CL_Get_Machine.ipynb\n",
    "%run ./DashboardWidgets/Widget_Machine.ipynb"
   ]
  },
  {
   "cell_type": "markdown",
   "id": "eea3ea0a-6dae-4ac1-9d04-407aee6b8947",
   "metadata": {
    "tags": []
   },
   "source": [
    "### Dates"
   ]
  },
  {
   "cell_type": "code",
   "execution_count": 6,
   "id": "1ff13861-3fc1-4c4e-af95-0a1425a72c27",
   "metadata": {},
   "outputs": [
    {
     "data": {
      "application/vnd.jupyter.widget-view+json": {
       "model_id": "4031d6e951b34638b6674f03572bfac9",
       "version_major": 2,
       "version_minor": 0
      },
      "text/plain": [
       "DatePicker(value=None, description='Start Date', step=1)"
      ]
     },
     "metadata": {},
     "output_type": "display_data"
    },
    {
     "data": {
      "application/vnd.jupyter.widget-view+json": {
       "model_id": "1cec4c0a537c4edf84b7e646c67a19a9",
       "version_major": 2,
       "version_minor": 0
      },
      "text/plain": [
       "DatePicker(value=None, description='End Date', step=1)"
      ]
     },
     "metadata": {},
     "output_type": "display_data"
    },
    {
     "data": {
      "application/vnd.jupyter.widget-view+json": {
       "model_id": "cf083c47181b4beaaaf0ecf77988cf31",
       "version_major": 2,
       "version_minor": 0
      },
      "text/plain": [
       "Dropdown(description='Select time you prefer', options=('Please select', 'last 2 weeks', 'last 4 weeks', 'last…"
      ]
     },
     "metadata": {},
     "output_type": "display_data"
    },
    {
     "name": "stdout",
     "output_type": "stream",
     "text": [
      "changed to 2 weeks\n"
     ]
    }
   ],
   "source": [
    "%run ./DashboardWidgets/Widget_TimeFrame.ipynb\n",
    "%run ./DashboardWidgets/timeseries_dropdown.ipynb"
   ]
  },
  {
   "cell_type": "code",
   "execution_count": 7,
   "id": "dbf68516-557a-451b-a897-3cca397f6641",
   "metadata": {},
   "outputs": [],
   "source": [
    "%run ./DataProcessing/CL_TimeFrame.ipynb"
   ]
  },
  {
   "cell_type": "code",
   "execution_count": 8,
   "id": "025d77d7",
   "metadata": {},
   "outputs": [],
   "source": [
    "#libraries\n",
    "from datetime import date\n",
    "from datetime import datetime\n",
    "\n",
    "# get variables\n",
    "organisation = selected_org.label\n",
    "# machine_id = selected_machine.value\n",
    "analysis_start_time = datetime.combine(DT_start.value, datetime.min.time()).timestamp()\n",
    "analysis_end_time = datetime.combine(DT_end.value, datetime.min.time()).timestamp()"
   ]
  },
  {
   "cell_type": "code",
   "execution_count": 14,
   "id": "def8f586",
   "metadata": {},
   "outputs": [
    {
     "name": "stdout",
     "output_type": "stream",
     "text": [
      "1 was inserted.\n",
      "1 was inserted.\n",
      "1 was inserted.\n",
      "1 was inserted.\n",
      "1 was inserted.\n",
      "1 was inserted.\n",
      "1 was inserted.\n",
      "1 was inserted.\n"
     ]
    }
   ],
   "source": [
    "#  push to database\n",
    "\n",
    "for machine_id in selected_machine.value:\n",
    "    try:\n",
    "        mycursor = mydb.cursor()\n",
    "\n",
    "        sql = \"INSERT INTO telematics_tasks (organisation, machine_id, analysis_start_time, analysis_end_time) VALUES (%s, %s, %s, %s)\"\n",
    "        val = [(organisation, machine_id, int(analysis_start_time),int(analysis_end_time)),]\n",
    "\n",
    "        mycursor.executemany(sql, val)\n",
    "\n",
    "        mydb.commit()\n",
    "\n",
    "        print(mycursor.rowcount, \"was inserted.\")\n",
    "    except:\n",
    "        print('error in inserting to database')"
   ]
  }
 ],
 "metadata": {
  "kernelspec": {
   "display_name": "Python 3 (ipykernel)",
   "language": "python",
   "name": "python3"
  },
  "language_info": {
   "codemirror_mode": {
    "name": "ipython",
    "version": 3
   },
   "file_extension": ".py",
   "mimetype": "text/x-python",
   "name": "python",
   "nbconvert_exporter": "python",
   "pygments_lexer": "ipython3",
   "version": "3.9.13"
  }
 },
 "nbformat": 4,
 "nbformat_minor": 5
}
