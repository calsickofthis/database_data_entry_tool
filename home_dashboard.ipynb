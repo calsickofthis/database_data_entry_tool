{
 "cells": [
  {
   "cell_type": "markdown",
   "id": "4499f568-c673-4a26-976c-57db480fe22f",
   "metadata": {},
   "source": [
    "<span><img align=\"left\" src =\"https://combilift.com/wp-content/uploads/2021/09/Combilift-Web-Logo_sm.png\" width=\"170\" /></span> <br/><br/>\n",
    "### Data entry tool\n",
    "<hr>\n",
    "\n",
    "#### This tool is for adding tasks to the telematics project until a server is set up"
   ]
  },
  {
   "cell_type": "markdown",
   "id": "f1a76dd9-afeb-4b84-a099-65efd31a3dcb",
   "metadata": {},
   "source": [
    "### Login"
   ]
  },
  {
   "cell_type": "code",
   "execution_count": 13,
   "id": "ae8a23ec-f7ad-4350-bb6b-1daa422658f7",
   "metadata": {},
   "outputs": [
    {
     "name": "stdout",
     "output_type": "stream",
     "text": [
      "Connected machines: 170\n",
      "Login: Success ✔\n",
      "<mysql.connector.connection.MySQLConnection object at 0x000001DACFBB5640>\n"
     ]
    }
   ],
   "source": [
    "# connect to api\n",
    "\n",
    "%run ./DataAccess/CL_Login.ipynb\n",
    "\n",
    "# connect to database\n",
    "\n",
    "import mysql.connector\n",
    "\n",
    "mydb = mysql.connector.connect(\n",
    "    host=\"localhost\",\n",
    "    user=\"root\",\n",
    "    password=\"Z%Br6}5+cBg9yN<y\",\n",
    "    database=\"testdatabase\"\n",
    ")\n",
    "\n",
    "print(mydb)\n"
   ]
  },
  {
   "cell_type": "markdown",
   "id": "7802f758-6fac-4226-8b74-3d0cb2399e9a",
   "metadata": {},
   "source": [
    "### Organization"
   ]
  },
  {
   "cell_type": "code",
   "execution_count": 14,
   "id": "96bd97ac-3584-44c5-8cca-566a5b6e913e",
   "metadata": {},
   "outputs": [
    {
     "data": {
      "application/vnd.jupyter.widget-view+json": {
       "model_id": "0b76ab3a3cbe4a6e8fd31f02c138b33e",
       "version_major": 2,
       "version_minor": 0
      },
      "text/plain": [
       "Select(description='Select Organisation', options=(('Meherrin River', '0ba082a0-df39-4021-b2df-be4ea9af6900'),…"
      ]
     },
     "metadata": {},
     "output_type": "display_data"
    }
   ],
   "source": [
    "%run ./DataAccess/CL_Get_Org.ipynb\n",
    "%run ./DashboardWidgets/Widget_Org.ipynb"
   ]
  },
  {
   "cell_type": "markdown",
   "id": "61b59f5d-7340-4e58-b334-4504c2c9dba0",
   "metadata": {
    "tags": []
   },
   "source": [
    "### Model"
   ]
  },
  {
   "cell_type": "code",
   "execution_count": 15,
   "id": "4e719801-b4b2-465f-be02-c6bb306baf79",
   "metadata": {},
   "outputs": [
    {
     "data": {
      "application/vnd.jupyter.widget-view+json": {
       "model_id": "d41ec911837e4ea4853fce37eb3f55ae",
       "version_major": 2,
       "version_minor": 0
      },
      "text/plain": [
       "Select(description='Select Model', options=(('CB', '007d4401-82b6-47ab-8eb0-6552fa489764'), ('C Series', '0b08…"
      ]
     },
     "metadata": {},
     "output_type": "display_data"
    }
   ],
   "source": [
    "%run ./DataAccess/CL_Get_Models.ipynb\n",
    "%run ./DashboardWidgets/Widget_Model.ipynb"
   ]
  },
  {
   "cell_type": "markdown",
   "id": "c8af3e8d-2126-4408-b8f2-f7691e8fefa6",
   "metadata": {
    "tags": []
   },
   "source": [
    "### Machine"
   ]
  },
  {
   "cell_type": "code",
   "execution_count": 16,
   "id": "a3b8a123-2407-4a43-91ea-a1cde0af269f",
   "metadata": {},
   "outputs": [
    {
     "data": {
      "application/vnd.jupyter.widget-view+json": {
       "model_id": "e2fa07253b2f42fe822c3447dd7c2c38",
       "version_major": 2,
       "version_minor": 0
      },
      "text/plain": [
       "SelectMultiple(description='Select Machine', layout=Layout(height='initial'), options=(('MR4 4t 59265', '14755…"
      ]
     },
     "metadata": {},
     "output_type": "display_data"
    }
   ],
   "source": [
    "%run ./DataAccess/CL_Get_Machine.ipynb\n",
    "%run ./DashboardWidgets/Widget_Machine.ipynb"
   ]
  },
  {
   "cell_type": "markdown",
   "id": "eea3ea0a-6dae-4ac1-9d04-407aee6b8947",
   "metadata": {
    "tags": []
   },
   "source": [
    "### Dates"
   ]
  },
  {
   "cell_type": "code",
   "execution_count": 17,
   "id": "1ff13861-3fc1-4c4e-af95-0a1425a72c27",
   "metadata": {},
   "outputs": [
    {
     "data": {
      "application/vnd.jupyter.widget-view+json": {
       "model_id": "6fe3e142ab5347d997eb6d54af8229cc",
       "version_major": 2,
       "version_minor": 0
      },
      "text/plain": [
       "DatePicker(value=None, description='Start Date', step=1)"
      ]
     },
     "metadata": {},
     "output_type": "display_data"
    },
    {
     "data": {
      "application/vnd.jupyter.widget-view+json": {
       "model_id": "be41138b41434d029179581b9b9b6ad7",
       "version_major": 2,
       "version_minor": 0
      },
      "text/plain": [
       "DatePicker(value=None, description='End Date', step=1)"
      ]
     },
     "metadata": {},
     "output_type": "display_data"
    },
    {
     "data": {
      "application/vnd.jupyter.widget-view+json": {
       "model_id": "54967c11034b4b049d96c71cffcdf4f1",
       "version_major": 2,
       "version_minor": 0
      },
      "text/plain": [
       "Dropdown(description='Select time you prefer', options=('Please select', 'last 2 weeks', 'last 4 weeks', 'last…"
      ]
     },
     "metadata": {},
     "output_type": "display_data"
    },
    {
     "name": "stdout",
     "output_type": "stream",
     "text": [
      "changed 6 months\n"
     ]
    }
   ],
   "source": [
    "%run ./DashboardWidgets/Widget_TimeFrame.ipynb\n",
    "%run ./DashboardWidgets/timeseries_dropdown.ipynb"
   ]
  },
  {
   "cell_type": "code",
   "execution_count": 18,
   "id": "dbf68516-557a-451b-a897-3cca397f6641",
   "metadata": {},
   "outputs": [],
   "source": [
    "%run ./DataProcessing/CL_TimeFrame.ipynb"
   ]
  },
  {
   "cell_type": "code",
   "execution_count": 19,
   "id": "025d77d7",
   "metadata": {},
   "outputs": [],
   "source": [
    "from datetime import date\n",
    "from datetime import datetime\n",
    "\n",
    "# get variables\n",
    "organisation = selected_org.label\n",
    "# machine_id = selected_machine.value\n",
    "analysis_start_time = datetime.combine(DT_start.value, datetime.min.time()).timestamp()\n",
    "analysis_end_time = datetime.combine(DT_end.value, datetime.min.time()).timestamp()"
   ]
  },
  {
   "cell_type": "code",
   "execution_count": 20,
   "id": "def8f586",
   "metadata": {},
   "outputs": [],
   "source": [
    "#  push to database\n",
    "\n",
    "for machine_id in selected_machine.value:\n",
    "    try:\n",
    "        mycursor = mydb.cursor()\n",
    "\n",
    "        sql = \"INSERT INTO telematics_tasks (organisation, machine_id, analysis_start_time, analysis_end_time) VALUES (%s, %s, %s, %s)\"\n",
    "        val = [\n",
    "          (organisation, machine_id, int(analysis_start_time),int(analysis_end_time)),]\n",
    "\n",
    "        mycursor.executemany(sql, val)\n",
    "\n",
    "        mydb.commit()\n",
    "\n",
    "        print(mycursor.rowcount, \"was inserted.\")\n",
    "    except:\n",
    "        print('error in inserting to database')"
   ]
  },
  {
   "cell_type": "code",
   "execution_count": 22,
   "id": "eddea279",
   "metadata": {},
   "outputs": [],
   "source": [
    "def retrieve_tasks(mycursor) -> list:\n",
    "    \n",
    "    # execute your query\n",
    "    mycursor.execute(\"SELECT * FROM telematics_tasks\")\n",
    "\n",
    "    # fetch all the matching rows\n",
    "    result = mycursor.fetchall()\n",
    "\n",
    "    listed_tasks = []\n",
    "\n",
    "    # loop through the rows\n",
    "    for row in result:\n",
    "        listed_tasks.append(row)\n",
    "    return listed_tasks"
   ]
  },
  {
   "cell_type": "code",
   "execution_count": 24,
   "id": "849df25d",
   "metadata": {},
   "outputs": [
    {
     "ename": "ProgrammingError",
     "evalue": "Cursor is not connected",
     "output_type": "error",
     "traceback": [
      "\u001b[1;31m---------------------------------------------------------------------------\u001b[0m",
      "\u001b[1;31mReferenceError\u001b[0m                            Traceback (most recent call last)",
      "File \u001b[1;32m~\\AppData\\Roaming\\Python\\Python39\\site-packages\\mysql\\connector\\cursor.py:577\u001b[0m, in \u001b[0;36mMySQLCursor.execute\u001b[1;34m(self, operation, params, multi)\u001b[0m\n\u001b[0;32m    576\u001b[0m \u001b[38;5;28;01mtry\u001b[39;00m:\n\u001b[1;32m--> 577\u001b[0m     \u001b[38;5;28;01mif\u001b[39;00m \u001b[38;5;129;01mnot\u001b[39;00m \u001b[38;5;28mself\u001b[39m\u001b[38;5;241m.\u001b[39m_connection:\n\u001b[0;32m    578\u001b[0m         \u001b[38;5;28;01mraise\u001b[39;00m ProgrammingError\n",
      "\u001b[1;31mReferenceError\u001b[0m: weakly-referenced object no longer exists",
      "\nThe above exception was the direct cause of the following exception:\n",
      "\u001b[1;31mProgrammingError\u001b[0m                          Traceback (most recent call last)",
      "Cell \u001b[1;32mIn[24], line 18\u001b[0m\n\u001b[0;32m     15\u001b[0m     \u001b[38;5;28;01mreturn\u001b[39;00m w\n\u001b[0;32m     17\u001b[0m \u001b[38;5;66;03m# print(type(generate_tasks_dialog()))\u001b[39;00m\n\u001b[1;32m---> 18\u001b[0m display(generate_tasks_dialog(\u001b[43mretrieve_tasks\u001b[49m\u001b[43m(\u001b[49m\u001b[43mmycursor\u001b[49m\u001b[43m)\u001b[49m))\n",
      "Cell \u001b[1;32mIn[22], line 4\u001b[0m, in \u001b[0;36mretrieve_tasks\u001b[1;34m(mycursor)\u001b[0m\n\u001b[0;32m      1\u001b[0m \u001b[38;5;28;01mdef\u001b[39;00m \u001b[38;5;21mretrieve_tasks\u001b[39m(mycursor) \u001b[38;5;241m-\u001b[39m\u001b[38;5;241m>\u001b[39m \u001b[38;5;28mlist\u001b[39m:\n\u001b[0;32m      2\u001b[0m     \n\u001b[0;32m      3\u001b[0m     \u001b[38;5;66;03m# execute your query\u001b[39;00m\n\u001b[1;32m----> 4\u001b[0m     \u001b[43mmycursor\u001b[49m\u001b[38;5;241;43m.\u001b[39;49m\u001b[43mexecute\u001b[49m\u001b[43m(\u001b[49m\u001b[38;5;124;43m\"\u001b[39;49m\u001b[38;5;124;43mSELECT * FROM telematics_tasks\u001b[39;49m\u001b[38;5;124;43m\"\u001b[39;49m\u001b[43m)\u001b[49m\n\u001b[0;32m      6\u001b[0m     \u001b[38;5;66;03m# fetch all the matching rows\u001b[39;00m\n\u001b[0;32m      7\u001b[0m     result \u001b[38;5;241m=\u001b[39m mycursor\u001b[38;5;241m.\u001b[39mfetchall()\n",
      "File \u001b[1;32m~\\AppData\\Roaming\\Python\\Python39\\site-packages\\mysql\\connector\\cursor.py:580\u001b[0m, in \u001b[0;36mMySQLCursor.execute\u001b[1;34m(self, operation, params, multi)\u001b[0m\n\u001b[0;32m    578\u001b[0m         \u001b[38;5;28;01mraise\u001b[39;00m ProgrammingError\n\u001b[0;32m    579\u001b[0m \u001b[38;5;28;01mexcept\u001b[39;00m (ProgrammingError, \u001b[38;5;167;01mReferenceError\u001b[39;00m) \u001b[38;5;28;01mas\u001b[39;00m err:\n\u001b[1;32m--> 580\u001b[0m     \u001b[38;5;28;01mraise\u001b[39;00m ProgrammingError(\u001b[38;5;124m\"\u001b[39m\u001b[38;5;124mCursor is not connected\u001b[39m\u001b[38;5;124m\"\u001b[39m) \u001b[38;5;28;01mfrom\u001b[39;00m \u001b[38;5;21;01merr\u001b[39;00m\n\u001b[0;32m    582\u001b[0m \u001b[38;5;28mself\u001b[39m\u001b[38;5;241m.\u001b[39m_connection\u001b[38;5;241m.\u001b[39mhandle_unread_result()\n\u001b[0;32m    584\u001b[0m \u001b[38;5;28mself\u001b[39m\u001b[38;5;241m.\u001b[39m_reset_result()\n",
      "\u001b[1;31mProgrammingError\u001b[0m: Cursor is not connected"
     ]
    }
   ],
   "source": [
    "def generate_tasks_dialog(listed_tasks) -> None:\n",
    "    \n",
    "    w = widgets.Dropdown(\n",
    "        options=['please select a task'] + listed_tasks,\n",
    "        value='please select a task',\n",
    "        description='Task:',\n",
    "    )\n",
    "\n",
    "    def on_change(change):\n",
    "        if change['type'] == 'change' and change['name'] == 'value':\n",
    "            print(\"changed to %s\" % change['new'])\n",
    "\n",
    "    w.observe(on_change)\n",
    "    \n",
    "    return w\n",
    "\n",
    "# print(type(generate_tasks_dialog()))\n",
    "display(generate_tasks_dialog(retrieve_tasks(mycursor)))"
   ]
  }
 ],
 "metadata": {
  "kernelspec": {
   "display_name": "Python 3 (ipykernel)",
   "language": "python",
   "name": "python3"
  },
  "language_info": {
   "codemirror_mode": {
    "name": "ipython",
    "version": 3
   },
   "file_extension": ".py",
   "mimetype": "text/x-python",
   "name": "python",
   "nbconvert_exporter": "python",
   "pygments_lexer": "ipython3",
   "version": "3.9.13"
  }
 },
 "nbformat": 4,
 "nbformat_minor": 5
}
