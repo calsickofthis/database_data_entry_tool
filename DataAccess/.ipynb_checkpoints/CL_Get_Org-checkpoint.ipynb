{
 "cells": [
  {
   "cell_type": "code",
   "execution_count": null,
   "id": "c523abf1-95c5-409b-96f9-06c169b95c50",
   "metadata": {},
   "outputs": [],
   "source": [
    "import requests\n",
    "\n",
    "def get_organisations(api_call_headers) -> list:\n",
    "    # Default url \n",
    "    # get_org_api_url = \"https://api.proemion.com/organizationUnits\"\n",
    "    get_org_api_url = organisations\n",
    "\n",
    "    api_call_response = requests.get(get_org_api_url, headers=api_call_headers, verify=False)\n",
    "\n",
    "    org_list = []\n",
    "    response = []\n",
    "    response = json.loads(api_call_response.text)\n",
    "\n",
    "    # update\n",
    "    response = response['organizations']\n",
    "\n",
    "    for i in range(len(response)):\n",
    "        l1=response[i]\n",
    "        tpl = (l1[\"name\"], l1[\"id\"])\n",
    "        org_list.append(tpl)\n",
    "    return org_list"
   ]
  }
 ],
 "metadata": {
  "kernelspec": {
   "display_name": "Python 3 (ipykernel)",
   "language": "python",
   "name": "python3"
  },
  "language_info": {
   "codemirror_mode": {
    "name": "ipython",
    "version": 3
   },
   "file_extension": ".py",
   "mimetype": "text/x-python",
   "name": "python",
   "nbconvert_exporter": "python",
   "pygments_lexer": "ipython3",
   "version": "3.9.13"
  }
 },
 "nbformat": 4,
 "nbformat_minor": 5
}
