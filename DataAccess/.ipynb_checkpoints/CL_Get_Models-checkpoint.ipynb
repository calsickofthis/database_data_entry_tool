{
 "cells": [
  {
   "cell_type": "code",
   "execution_count": null,
   "id": "80a9121b-995e-44cf-903f-473684ff9465",
   "metadata": {},
   "outputs": [],
   "source": [
    "# Default url \n",
    "# get_models_api_url_base = \"https://api.proemion.com/v22.7.0/models?limit=1000&offset=0\"\n",
    "\n",
    "get_models_api_url_base = models\n",
    "query = \"\""
   ]
  },
  {
   "cell_type": "markdown",
   "id": "65d79387-fce5-4e94-9598-0d58c33e86c8",
   "metadata": {},
   "source": [
    "if len(selected_org.value) > 0 :\n",
    "    query = \"&q=organization.id==\" + selected_org.value\n",
    "else:\n",
    "    print(\"All organisations selected\")\n",
    "    \n",
    "\n",
    "print (\"Models url:\",get_models_api_url)"
   ]
  },
  {
   "cell_type": "code",
   "execution_count": null,
   "id": "ed73364b-0a19-468d-b989-4f0bc56626f5",
   "metadata": {},
   "outputs": [],
   "source": [
    "get_models_api_url = get_models_api_url_base + query\n",
    "api_call_response = requests.get(get_models_api_url, headers=api_call_headers, verify=False)\n",
    "\n",
    "# print (\"Models response:\",api_call_response.text)"
   ]
  },
  {
   "cell_type": "code",
   "execution_count": null,
   "id": "c523abf1-95c5-409b-96f9-06c169b95c50",
   "metadata": {},
   "outputs": [],
   "source": [
    "models_list = []\n",
    "models_response = []\n",
    "models_response = json.loads(api_call_response.text)\n",
    "#print(type(models_response))\n",
    "#print(models_response)\n",
    "\n",
    "for i in range(len(models_response)):\n",
    "    l1=models_response[i]\n",
    "    tpl = (l1[\"name\"], l1[\"id\"])\n",
    "    models_list.append(tpl)\n",
    "\n",
    "#print(Models_List)\n"
   ]
  }
 ],
 "metadata": {
  "kernelspec": {
   "display_name": "Python 3 (ipykernel)",
   "language": "python",
   "name": "python3"
  },
  "language_info": {
   "codemirror_mode": {
    "name": "ipython",
    "version": 3
   },
   "file_extension": ".py",
   "mimetype": "text/x-python",
   "name": "python",
   "nbconvert_exporter": "python",
   "pygments_lexer": "ipython3",
   "version": "3.9.13"
  }
 },
 "nbformat": 4,
 "nbformat_minor": 5
}
