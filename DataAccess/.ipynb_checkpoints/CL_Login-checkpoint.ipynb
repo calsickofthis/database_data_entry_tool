{
 "cells": [
  {
   "cell_type": "markdown",
   "id": "3f7eab3b-5638-47b4-b72d-209b2f321e77",
   "metadata": {},
   "source": [
    "Log into the Proemion Server using the created client access"
   ]
  },
  {
   "cell_type": "code",
   "execution_count": null,
   "id": "7e5f4524-c4fa-4277-9975-2c5e56e9f911",
   "metadata": {},
   "outputs": [],
   "source": [
    "import requests, json\n",
    "\n",
    "requests.packages.urllib3.disable_warnings(requests.packages.urllib3.exceptions.InsecureRequestWarning)\n",
    "\n",
    "token_url = \"https://api.proemion.com/v22.7.0/auth/token\"\n",
    "\n",
    "# Default url will get the total number of machines\n",
    "test_api_url = \"https://api.proemion.com/machines/count\"\n",
    "\n",
    "#client (application) credentials on apim.byu.edu\n",
    "client_id = 'a3325073-d1e6-43f1-863a-b2317cf13f97'\n",
    "client_secret = 'JQo,IzWUOmzz'\n",
    "\n",
    "#step A, B - single call with client credentials as the basic auth header - will return access_token\n",
    "data = {'grant_type': 'client_credentials'}\n"
   ]
  },
  {
   "cell_type": "code",
   "execution_count": null,
   "id": "ae398658-1f5e-41c2-ad87-ac3ac95b6b71",
   "metadata": {},
   "outputs": [],
   "source": [
    "access_token_response = requests.post(token_url, data=data, verify=False, allow_redirects=False, auth=(client_id, client_secret))\n",
    "\n",
    "tokens = json.loads(access_token_response.text)"
   ]
  },
  {
   "cell_type": "code",
   "execution_count": null,
   "id": "fd11c6cb-d4dc-4526-999a-4860f5b8d452",
   "metadata": {},
   "outputs": [],
   "source": [
    "#step B - with the returned access_token we can make as many calls as we want\n",
    "api_call_headers = {'Authorization': 'Bearer ' + tokens['access_token']}\n",
    "api_call_response = requests.get(test_api_url, headers=api_call_headers, verify=False)\n",
    "\n",
    "print (\"Connected machines:\",api_call_response.text)\n",
    "print(\"Login: Success ✔\")"
   ]
  }
 ],
 "metadata": {
  "kernelspec": {
   "display_name": "Python 3 (ipykernel)",
   "language": "python",
   "name": "python3"
  },
  "language_info": {
   "codemirror_mode": {
    "name": "ipython",
    "version": 3
   },
   "file_extension": ".py",
   "mimetype": "text/x-python",
   "name": "python",
   "nbconvert_exporter": "python",
   "pygments_lexer": "ipython3",
   "version": "3.9.13"
  }
 },
 "nbformat": 4,
 "nbformat_minor": 5
}
