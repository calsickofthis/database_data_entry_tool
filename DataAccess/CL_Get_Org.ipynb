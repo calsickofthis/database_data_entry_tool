{
 "cells": [
  {
   "cell_type": "code",
   "execution_count": null,
   "id": "80a9121b-995e-44cf-903f-473684ff9465",
   "metadata": {},
   "outputs": [],
   "source": [
    "# Default url \n",
    "# get_org_api_url = \"https://api.proemion.com/organizationUnits\"\n",
    "get_org_api_url = ORGANIZATIONS"
   ]
  },
  {
   "cell_type": "code",
   "execution_count": null,
   "id": "ed73364b-0a19-468d-b989-4f0bc56626f5",
   "metadata": {},
   "outputs": [],
   "source": [
    "api_call_response = requests.get(get_org_api_url, headers=api_call_headers, verify=False)\n",
    "\n",
    "# print (\"Org response:\",api_call_response.text)"
   ]
  },
  {
   "cell_type": "code",
   "execution_count": null,
   "id": "c523abf1-95c5-409b-96f9-06c169b95c50",
   "metadata": {},
   "outputs": [],
   "source": [
    "org_list = []\n",
    "response = []\n",
    "response = json.loads(api_call_response.text)\n",
    "#print(type(response))\n",
    "# print(response)\n",
    "\n",
    "# update\n",
    "response = response['organizations']\n",
    "\n",
    "for i in range(len(response)):\n",
    "    l1=response[i]\n",
    "    tpl = (l1[\"name\"], l1[\"id\"])\n",
    "    org_list.append(tpl)\n",
    "\n",
    "#print(Org_List)\n"
   ]
  },
  {
   "cell_type": "code",
   "execution_count": null,
   "id": "e7d7838e-6508-4576-96d4-05a0cd1b0aec",
   "metadata": {},
   "outputs": [],
   "source": []
  }
 ],
 "metadata": {
  "kernelspec": {
   "display_name": "Python 3 (ipykernel)",
   "language": "python",
   "name": "python3"
  },
  "language_info": {
   "codemirror_mode": {
    "name": "ipython",
    "version": 3
   },
   "file_extension": ".py",
   "mimetype": "text/x-python",
   "name": "python",
   "nbconvert_exporter": "python",
   "pygments_lexer": "ipython3",
   "version": "3.9.13"
  }
 },
 "nbformat": 4,
 "nbformat_minor": 5
}
