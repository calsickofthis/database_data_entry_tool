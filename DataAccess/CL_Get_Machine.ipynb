{
 "cells": [
  {
   "cell_type": "code",
   "execution_count": null,
   "id": "8ab2f8ee-b987-478c-ac34-68e67effeb39",
   "metadata": {},
   "outputs": [],
   "source": [
    "# Default url \n",
    "# get_machine_api_url_base = \"https://api.proemion.com/v22.7.0/machines\"\n",
    "\n",
    "get_machine_api_url_base = post_timeseries_api_url = MACHINES\n",
    "query = \"\""
   ]
  },
  {
   "cell_type": "code",
   "execution_count": null,
   "id": "ddcaf013-71ba-4b6c-98ac-2a4484d472fc",
   "metadata": {},
   "outputs": [],
   "source": [
    "#print(selected_org)\n",
    "try:\n",
    "    if len(selected_org.value) > 0 :\n",
    "        query = \"?q=organization.anyAncestor.id==\" + selected_org.value\n",
    "    else:\n",
    "        print(\"No organisation selected\")\n",
    "\n",
    "    get_machine_api_url = get_machine_api_url_base + query\n",
    "except:\n",
    "    if len(selected_org[1]) > 0 :\n",
    "        query = \"?q=organization.anyAncestor.id==\" + selected_org[1]\n",
    "    else:\n",
    "        print(\"No organisation selected\")\n",
    "\n",
    "    get_machine_api_url = get_machine_api_url_base + query"
   ]
  },
  {
   "cell_type": "code",
   "execution_count": null,
   "id": "b86812cf-558b-49d9-8c41-9fdb2e31fcf4",
   "metadata": {},
   "outputs": [],
   "source": [
    "try:\n",
    "    if len(selected_model.value) > 0 :\n",
    "        query = \";model.id==\" + selected_model.value\n",
    "    else:\n",
    "        print(\"No model selected\")\n",
    "\n",
    "    get_machine_api_url = get_machine_api_url + query\n",
    "except:\n",
    "    if len(selected_model[1]) > 0 :\n",
    "        query = \";model.id==\" + selected_model[1]\n",
    "    else:\n",
    "        print(\"No model selected\")\n",
    "\n",
    "    get_machine_api_url = get_machine_api_url + query"
   ]
  },
  {
   "cell_type": "code",
   "execution_count": null,
   "id": "a9bb7481-22f5-4dd6-ad51-3cbe6a7e9cda",
   "metadata": {},
   "outputs": [],
   "source": [
    "api_call_response = requests.get(get_machine_api_url, headers=api_call_headers, verify=False)\n",
    "#print (\"Models url:\",get_machine_api_url)\n",
    "#print (\"Machines response:\",api_call_response.text)"
   ]
  },
  {
   "cell_type": "code",
   "execution_count": null,
   "id": "661325a4-9126-480e-95a8-4a52c585f3fd",
   "metadata": {},
   "outputs": [],
   "source": [
    "machine_list = []\n",
    "machine_response = []\n",
    "machine_response = json.loads(api_call_response.text)\n",
    "\n",
    "for i in range(len(machine_response)):\n",
    "    l1=machine_response[i]\n",
    "    tpl = (l1[\"name\"], l1[\"id\"])\n",
    "    machine_list.append(tpl)\n",
    "\n",
    "#print(Machine_List)\n"
   ]
  }
 ],
 "metadata": {
  "interpreter": {
   "hash": "74afb8b6b3f625ba65aaf93f1172437320dcca8b0a5f7c94038ece7a5830fab2"
  },
  "kernelspec": {
   "display_name": "Python 3 (ipykernel)",
   "language": "python",
   "name": "python3"
  },
  "language_info": {
   "codemirror_mode": {
    "name": "ipython",
    "version": 3
   },
   "file_extension": ".py",
   "mimetype": "text/x-python",
   "name": "python",
   "nbconvert_exporter": "python",
   "pygments_lexer": "ipython3",
   "version": "3.9.13"
  }
 },
 "nbformat": 4,
 "nbformat_minor": 5
}
