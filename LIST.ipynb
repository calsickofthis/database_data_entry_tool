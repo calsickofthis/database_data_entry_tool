{
 "cells": [
  {
   "cell_type": "code",
   "execution_count": null,
   "id": "eddea279",
   "metadata": {},
   "outputs": [],
   "source": [
    "def retrieve_tasks(mycursor) -> list:\n",
    "    \n",
    "    # execute your query\n",
    "    mycursor.execute(\"SELECT * FROM telematics_tasks\")\n",
    "\n",
    "    # fetch all the matching rows\n",
    "    result = mycursor.fetchall()\n",
    "\n",
    "    listed_tasks = []\n",
    "\n",
    "    # loop through the rows\n",
    "    for row in result:\n",
    "        listed_tasks.append(row)\n",
    "    return listed_tasks"
   ]
  },
  {
   "cell_type": "code",
   "execution_count": null,
   "id": "849df25d",
   "metadata": {},
   "outputs": [],
   "source": [
    "def generate_tasks_dialog(listed_tasks) -> None:\n",
    "    \n",
    "    w = widgets.Dropdown(\n",
    "        options=['please select a task'] + listed_tasks,\n",
    "        value='please select a task',\n",
    "        description='Task:',\n",
    "    )\n",
    "\n",
    "    def on_change(change):\n",
    "        if change['type'] == 'change' and change['name'] == 'value':\n",
    "            print(\"changed to %s\" % change['new'])\n",
    "\n",
    "    w.observe(on_change)\n",
    "    \n",
    "    return w\n",
    "\n",
    "# print(type(generate_tasks_dialog()))\n",
    "display(generate_tasks_dialog(retrieve_tasks(mycursor)))"
   ]
  }
 ],
 "metadata": {
  "kernelspec": {
   "display_name": "Python 3 (ipykernel)",
   "language": "python",
   "name": "python3"
  },
  "language_info": {
   "codemirror_mode": {
    "name": "ipython",
    "version": 3
   },
   "file_extension": ".py",
   "mimetype": "text/x-python",
   "name": "python",
   "nbconvert_exporter": "python",
   "pygments_lexer": "ipython3",
   "version": "3.9.13"
  }
 },
 "nbformat": 4,
 "nbformat_minor": 5
}
