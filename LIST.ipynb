{
 "cells": [
  {
   "cell_type": "code",
   "execution_count": 1,
   "id": "5aa16bed",
   "metadata": {},
   "outputs": [],
   "source": [
    "import ipywidgets as widgets"
   ]
  },
  {
   "cell_type": "code",
   "execution_count": 2,
   "id": "ae8a23ec-f7ad-4350-bb6b-1daa422658f7",
   "metadata": {
    "scrolled": true
   },
   "outputs": [
    {
     "name": "stdout",
     "output_type": "stream",
     "text": [
      "<mysql.connector.connection.MySQLConnection object at 0x0000021FAF9B4C70>\n"
     ]
    }
   ],
   "source": [
    "%run ./Database/dbConnect.ipynb\n",
    "mycursor = mydb.cursor()"
   ]
  },
  {
   "cell_type": "code",
   "execution_count": 3,
   "id": "eddea279",
   "metadata": {},
   "outputs": [],
   "source": [
    "def retrieve_tasks(mycursor) -> list:\n",
    "    \n",
    "    # execute your query\n",
    "    mycursor.execute(\"SELECT * FROM telematics_tasks\")\n",
    "\n",
    "    # fetch all the matching rows\n",
    "    result = mycursor.fetchall()\n",
    "\n",
    "    listed_tasks = []\n",
    "\n",
    "    # loop through the rows\n",
    "    for row in result:\n",
    "        listed_tasks.append(row)\n",
    "    return listed_tasks"
   ]
  },
  {
   "cell_type": "code",
   "execution_count": 11,
   "id": "849df25d",
   "metadata": {},
   "outputs": [
    {
     "data": {
      "application/vnd.jupyter.widget-view+json": {
       "model_id": "7d0ae3cd646841bc808ed62ad4bce68a",
       "version_major": 2,
       "version_minor": 0
      },
      "text/plain": [
       "Dropdown(description='Type:', layout=Layout(width='max-content'), options=('please select a task', (1, 'combil…"
      ]
     },
     "metadata": {},
     "output_type": "display_data"
    }
   ],
   "source": [
    "def generate_tasks_dialog(listed_tasks) -> None:\n",
    "    \n",
    "    w = widgets.Dropdown(\n",
    "        options=['please select a task'] + listed_tasks,\n",
    "        value='please select a task',\n",
    "        description='Type:',\n",
    "        layout={'width' : 'max-content'}\n",
    "    )\n",
    "\n",
    "    def on_change(change):\n",
    "        if change['type'] == 'change' and change['name'] == 'value':\n",
    "            print(\"changed to %s\", change['new'])\n",
    "\n",
    "    w.observe(on_change)\n",
    "    return w\n",
    "\n",
    "display(generate_tasks_dialog(retrieve_tasks(mycursor)))"
   ]
  }
 ],
 "metadata": {
  "kernelspec": {
   "display_name": "Python 3 (ipykernel)",
   "language": "python",
   "name": "python3"
  },
  "language_info": {
   "codemirror_mode": {
    "name": "ipython",
    "version": 3
   },
   "file_extension": ".py",
   "mimetype": "text/x-python",
   "name": "python",
   "nbconvert_exporter": "python",
   "pygments_lexer": "ipython3",
   "version": "3.9.13"
  }
 },
 "nbformat": 4,
 "nbformat_minor": 5
}
