{
 "cells": [
  {
   "cell_type": "markdown",
   "id": "95ab7129-433e-4091-8de1-0d6de3ad127b",
   "metadata": {},
   "source": [
    "### A python notebook to remove all files in the Outputs folder"
   ]
  },
  {
   "cell_type": "code",
   "execution_count": null,
   "id": "d8d714e3-6128-498d-93b6-78a545a0cc45",
   "metadata": {},
   "outputs": [],
   "source": [
    "# # clean outputs folder\n",
    "# import os, shutil\n",
    "# folder = './Outputs'\n",
    "\n",
    "\n",
    "# for filename in os.listdir(folder):\n",
    "#     file_path = os.path.join(folder, filename)\n",
    "#     try:\n",
    "#         if os.path.isfile(file_path) or os.path.islink(file_path):\n",
    "#             os.unlink(file_path)\n",
    "#             print(f\"Successfully removed - {filename}\")\n",
    "#         elif os.path.isdir(file_path):\n",
    "#             shutil.rmtree(file_path)\n",
    "#     except Exception as e:\n",
    "#         print('Failed to delete %s. Reason: %s' % (file_path, e))"
   ]
  },
  {
   "cell_type": "code",
   "execution_count": null,
   "id": "dd89fc03-57a7-49ee-83a9-c8663ca49fbc",
   "metadata": {},
   "outputs": [],
   "source": []
  },
  {
   "cell_type": "code",
   "execution_count": null,
   "id": "b32cc9cd-a04d-434e-adeb-e97d26f5c40e",
   "metadata": {},
   "outputs": [],
   "source": [
    "from IPython.display import display\n",
    "clear_output_folder_button = widgets.Button(description=\"Clear Outputs Folder\", button_style='info')\n",
    "output = widgets.Output()\n",
    "\n",
    "display(clear_output_folder_button, output)\n",
    "\n",
    "def on_button_clicked(b):\n",
    "    # %run ./clear_outputs.py\n",
    "    %run ./Undefined_Functions/clear_outputs.py\n",
    "    with output:\n",
    "        print(\"Output Files Removed ✔\")\n",
    "\n",
    "clear_output_folder_button.on_click(on_button_clicked)"
   ]
  },
  {
   "cell_type": "code",
   "execution_count": null,
   "id": "e59ec719-ebaf-4235-a164-b6648a449cd3",
   "metadata": {},
   "outputs": [],
   "source": []
  }
 ],
 "metadata": {
  "kernelspec": {
   "display_name": "Python 3 (ipykernel)",
   "language": "python",
   "name": "python3"
  },
  "language_info": {
   "codemirror_mode": {
    "name": "ipython",
    "version": 3
   },
   "file_extension": ".py",
   "mimetype": "text/x-python",
   "name": "python",
   "nbconvert_exporter": "python",
   "pygments_lexer": "ipython3",
   "version": "3.9.13"
  }
 },
 "nbformat": 4,
 "nbformat_minor": 5
}
