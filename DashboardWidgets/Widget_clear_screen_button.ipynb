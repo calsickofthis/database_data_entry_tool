{
 "cells": [
  {
   "cell_type": "markdown",
   "id": "693d3656-ebbf-40e2-8558-7812c400183f",
   "metadata": {},
   "source": [
    "### A Python notebook containing a Button Widget to clear/remove cell output"
   ]
  },
  {
   "cell_type": "code",
   "execution_count": null,
   "id": "4ab1a9ed-44fd-424b-97ef-14156c25c9ad",
   "metadata": {},
   "outputs": [],
   "source": [
    "from IPython.display import clear_output"
   ]
  },
  {
   "cell_type": "code",
   "execution_count": null,
   "id": "5d79b83a-b7d2-4b57-8555-623f1c4cd603",
   "metadata": {},
   "outputs": [],
   "source": [
    "clear_cell_output_button = widgets.Button(\n",
    "    description='Clear Cell Output',\n",
    "    disabled=False,\n",
    "    button_style='info',\n",
    "    tootip='Clear Cell Output',\n",
    "    icon=''\n",
    ")\n",
    "display(clear_cell_output_button, output)\n",
    "\n",
    "def on_button_clicked(b):\n",
    "    with output:\n",
    "        clear_output(wait=True)\n",
    "        print(\"\")\n",
    "    \n",
    "clear_cell_output_button.on_click(on_button_clicked)"
   ]
  }
 ],
 "metadata": {
  "kernelspec": {
   "display_name": "Python 3 (ipykernel)",
   "language": "python",
   "name": "python3"
  },
  "language_info": {
   "codemirror_mode": {
    "name": "ipython",
    "version": 3
   },
   "file_extension": ".py",
   "mimetype": "text/x-python",
   "name": "python",
   "nbconvert_exporter": "python",
   "pygments_lexer": "ipython3",
   "version": "3.9.13"
  }
 },
 "nbformat": 4,
 "nbformat_minor": 5
}
