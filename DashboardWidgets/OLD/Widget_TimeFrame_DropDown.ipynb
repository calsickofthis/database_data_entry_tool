{
 "cells": [
  {
   "cell_type": "code",
   "execution_count": null,
   "id": "df19b549-8d5c-4983-af82-f74f78f500b7",
   "metadata": {},
   "outputs": [],
   "source": [
    "import time\n",
    "import datetime\n",
    "import ipywidgets as widgets\n",
    "from IPython.display import display\n",
    "import datetime  "
   ]
  },
  {
   "cell_type": "code",
   "execution_count": null,
   "id": "dd08da3c-8ec1-4864-abd5-d1393e0c9ac2",
   "metadata": {
    "tags": []
   },
   "outputs": [],
   "source": [
    "time_options = ['the last 2 weeks','the last month','the last 6 months']\n",
    "\n",
    "print(time.time())\n",
    "\n",
    "selected_org = widgets.Select(\n",
    "    options=time_options,\n",
    "    description='Based on ...',\n",
    "    disabled=False\n",
    ")\n",
    "\n",
    "display(selected_org)"
   ]
  },
  {
   "cell_type": "code",
   "execution_count": null,
   "id": "beffa1e1-51cd-4706-af88-d1eb8abe4403",
   "metadata": {},
   "outputs": [],
   "source": [
    "def two_weeks():\n",
    "    DT_start = int(int(time.time()))\n",
    "    DT_end = int(int((time.time()) - 1209600))\n",
    "    return [int((time.time()) - 1209600), int(time.time())]\n",
    "    \n",
    "def one_month():\n",
    "    DT_start = int(int(time.time()))\n",
    "    DT_end = int(int((time.time()) - 2419200))\n",
    "    return [int((time.time()) - 2419200), int(time.time())]\n",
    "\n",
    "def six_months():\n",
    "    DT_start = int(int(time.time()))\n",
    "    DT_end = int(int((time.time()) - 14515200))\n",
    "    return [int((time.time()) - 14515200), int(time.time())]\n",
    "\n",
    "if selected_org.value == 'the last 2 weeks':\n",
    "    result = two_weeks()\n",
    "\n",
    "if selected_org.value == 'the last month':\n",
    "    result = one_month()\n",
    "    \n",
    "if selected_org.value == 'the last 6 months':\n",
    "    result = six_months()"
   ]
  }
 ],
 "metadata": {
  "kernelspec": {
   "display_name": "Python 3 (ipykernel)",
   "language": "python",
   "name": "python3"
  },
  "language_info": {
   "codemirror_mode": {
    "name": "ipython",
    "version": 3
   },
   "file_extension": ".py",
   "mimetype": "text/x-python",
   "name": "python",
   "nbconvert_exporter": "python",
   "pygments_lexer": "ipython3",
   "version": "3.9.7"
  }
 },
 "nbformat": 4,
 "nbformat_minor": 5
}
