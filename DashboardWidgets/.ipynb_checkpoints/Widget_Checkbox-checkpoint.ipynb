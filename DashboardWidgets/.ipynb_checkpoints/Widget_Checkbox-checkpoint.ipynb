{
 "cells": [
  {
   "cell_type": "markdown",
   "id": "66faf8b7-40cc-4800-bf2b-0e295d78e2fb",
   "metadata": {},
   "source": [
    "### A Python notebook to display Tasks that can be performed"
   ]
  },
  {
   "cell_type": "code",
   "execution_count": null,
   "id": "065ab23d-2846-4eb6-9e4d-b9e75dda2584",
   "metadata": {},
   "outputs": [],
   "source": [
    "import ipywidgets as widgets\n",
    "from ipywidgets import *\n",
    "from IPython.display import display\n",
    "output = widgets.Output()"
   ]
  },
  {
   "cell_type": "code",
   "execution_count": null,
   "id": "64f6eaab-7edc-474b-85cb-39f038ac5239",
   "metadata": {},
   "outputs": [],
   "source": [
    "# <For Testing purposes>\n",
    "\n",
    "# # machine_id = selected_machine.value\n",
    "# selected_machine.value = machine_id\n",
    "\n",
    "# print(f'{selected_machine.value=}')\n",
    "# print(f'{machine_id=}')"
   ]
  },
  {
   "cell_type": "code",
   "execution_count": null,
   "id": "df1dc263-ad79-4565-baa5-3a216b164e31",
   "metadata": {},
   "outputs": [],
   "source": [
    "############################################################################\n",
    "# CHECKBOXES\n",
    "tasks = ['Temperature', 'Report', 'Efficiency', 'Service', 'Money-Saver']\n",
    "############################################################################"
   ]
  },
  {
   "cell_type": "code",
   "execution_count": null,
   "id": "9a3d50d1-3b88-4881-a811-61274a271b43",
   "metadata": {},
   "outputs": [],
   "source": [
    "cb_cont = HBox(layout=Layout(width='100%',display='inline-flex',flex_flow='row wrap'))\n",
    "\n",
    "checkboxes = []\n",
    "for f in range(len(tasks)):\n",
    "    checkboxes.append(widgets.Checkbox(description = f'{tasks[f]}', value=False, width=50, indent=False))\n",
    "\n",
    "cb_cont.children=[i for i in checkboxes]\n",
    "display(cb_cont)"
   ]
  },
  {
   "cell_type": "code",
   "execution_count": null,
   "id": "f7ef484a-f23d-49ba-bb03-759c617a0400",
   "metadata": {},
   "outputs": [],
   "source": []
  },
  {
   "cell_type": "code",
   "execution_count": null,
   "id": "fe989492-8fff-46f4-a959-011799b70129",
   "metadata": {},
   "outputs": [],
   "source": [
    "from IPython.display import clear_output"
   ]
  },
  {
   "cell_type": "code",
   "execution_count": null,
   "id": "d3b0add8-49e7-4c79-8e3f-11885e9de374",
   "metadata": {},
   "outputs": [],
   "source": [
    "# BUTTON\n",
    "# print(\"# task_button - below\")\n",
    "tasks_button = widgets.Button(\n",
    "    description='Perform Tasks',\n",
    "    disabled=False,\n",
    "    button_style='info', # 'success', 'info', 'warning', 'danger' or ''\n",
    "    tooltip='Perform Tasks',\n",
    "    icon='x' # (FontAwesome names without the `fa-` prefix)\n",
    ")\n",
    "display(tasks_button, output)\n",
    "\n",
    "# on click function\n",
    "def on_button_clicked(b):\n",
    "    with output:\n",
    "        for i in checkboxes:\n",
    "            use_case = i.description\n",
    "            checked = i.value\n",
    "            \n",
    "            if checked == True:   \n",
    "                if use_case == \"Temperature\":\n",
    "                    %run ./temperature_main.ipynb   \n",
    "                elif use_case == \"Report\":\n",
    "                    # %run ./hello.ipynb\n",
    "                    print(\"<You selected Report - This task is under construction>\")\n",
    "                elif use_case == \"Efficiency\":\n",
    "                    %run ./efficiency_main.ipynb\n",
    "                elif use_case == \"Service\":\n",
    "                    %run ./service_main.ipynb\n",
    "                elif use_case == \"Money-Saver\":\n",
    "                    print(\"<You selected Money-Saver - This task is under constuction>\")\n",
    "                    \n",
    "                    \n",
    "        \n",
    " \n",
    "tasks_button.on_click(on_button_clicked)"
   ]
  },
  {
   "cell_type": "code",
   "execution_count": null,
   "id": "adac157e-3044-47e9-9a4d-d3ee099c781c",
   "metadata": {},
   "outputs": [],
   "source": [
    "# print(\"# clear_screen_button - below\")"
   ]
  },
  {
   "cell_type": "code",
   "execution_count": null,
   "id": "47ea5b8f-d55c-4162-9085-14d9c0390974",
   "metadata": {},
   "outputs": [],
   "source": [
    "%run ./DashboardWidgets/Widget_clear_screen_button.ipynb"
   ]
  },
  {
   "cell_type": "code",
   "execution_count": null,
   "id": "cf58a841-67fe-4926-a5b6-b34374ede120",
   "metadata": {},
   "outputs": [],
   "source": [
    "# print(\"# clear_outputs_button - below\")"
   ]
  },
  {
   "cell_type": "code",
   "execution_count": null,
   "id": "0eeae053-9146-47a5-bcf4-40186177c6b0",
   "metadata": {},
   "outputs": [],
   "source": [
    "%run ./DashboardWidgets/clear_outputs_button.ipynb"
   ]
  },
  {
   "cell_type": "code",
   "execution_count": null,
   "id": "4679e2db-667f-4ce3-bebb-0eda02e61f6a",
   "metadata": {},
   "outputs": [],
   "source": []
  },
  {
   "cell_type": "code",
   "execution_count": null,
   "id": "93881f89-1d22-4446-b860-202d3bc1df55",
   "metadata": {},
   "outputs": [],
   "source": [
    "# print(checkboxes[0].description)"
   ]
  },
  {
   "cell_type": "code",
   "execution_count": null,
   "id": "1a8aba24-ff0a-42bf-9839-b8af9aa5fe8d",
   "metadata": {},
   "outputs": [],
   "source": []
  },
  {
   "cell_type": "code",
   "execution_count": null,
   "id": "86273a63-5654-4d5f-a92e-60a2df7bdcd4",
   "metadata": {},
   "outputs": [],
   "source": [
    "# from IPython.display import display\n",
    "# from ipywidgets import widgets\n",
    "# button1 = widgets.Button(description = 'Button1')\n",
    "# button2 = widgets.Button(description = 'Button2')\n",
    "# display(widgets.HBox((button1, button2)))"
   ]
  },
  {
   "cell_type": "code",
   "execution_count": null,
   "id": "d6607f3b-d607-4818-a6d5-cb56a0fd4ef5",
   "metadata": {},
   "outputs": [],
   "source": []
  },
  {
   "cell_type": "code",
   "execution_count": null,
   "id": "0b5042a3-b0f1-4aaf-be44-911897fdbd77",
   "metadata": {},
   "outputs": [],
   "source": [
    "# from IPython.display import display\n",
    "# from ipywidgets import widgets\n",
    "\n",
    "# print(\"# HBox - below\")\n",
    "# display(widgets.HBox((tasks_button, clear_cell_output_button, clear_output_folder_button)))"
   ]
  },
  {
   "cell_type": "code",
   "execution_count": null,
   "id": "dce8b1f8-817b-4fea-ba78-371471582cf9",
   "metadata": {},
   "outputs": [],
   "source": []
  },
  {
   "cell_type": "code",
   "execution_count": null,
   "id": "9bb95b48-afb2-4a8a-bdc3-a1358f99c801",
   "metadata": {},
   "outputs": [],
   "source": []
  }
 ],
 "metadata": {
  "kernelspec": {
   "display_name": "Python 3 (ipykernel)",
   "language": "python",
   "name": "python3"
  },
  "language_info": {
   "codemirror_mode": {
    "name": "ipython",
    "version": 3
   },
   "file_extension": ".py",
   "mimetype": "text/x-python",
   "name": "python",
   "nbconvert_exporter": "python",
   "pygments_lexer": "ipython3",
   "version": "3.9.13"
  }
 },
 "nbformat": 4,
 "nbformat_minor": 5
}
