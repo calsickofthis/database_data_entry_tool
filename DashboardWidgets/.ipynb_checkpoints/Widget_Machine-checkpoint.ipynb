{
 "cells": [
  {
   "cell_type": "code",
   "execution_count": null,
   "id": "44c090ca-7813-4f64-83b7-e080c58142ff",
   "metadata": {},
   "outputs": [],
   "source": [
    "import ipywidgets as widgets\n",
    "from IPython.display import display"
   ]
  },
  {
   "cell_type": "code",
   "execution_count": null,
   "id": "5a00acff-964b-4e29-bab3-b4608118cf22",
   "metadata": {},
   "outputs": [],
   "source": [
    "# selected_machine = widgets.Select(\n",
    "#     options=machine_list,\n",
    "#     description='Select Machine',\n",
    "#     disabled=False\n",
    "# )\n",
    "\n",
    "# display(selected_machine)"
   ]
  },
  {
   "cell_type": "code",
   "execution_count": null,
   "id": "4e12cb48-19d6-4e25-b9c9-162d293fda67",
   "metadata": {},
   "outputs": [],
   "source": [
    "selected_machine = widgets.SelectMultiple(\n",
    "    options=machine_list,\n",
    "    description='Select Machine',\n",
    "    disabled=False,\n",
    "    layout = {'height': 'initial'}\n",
    ")\n",
    "\n",
    "display(selected_machine)"
   ]
  }
 ],
 "metadata": {
  "kernelspec": {
   "display_name": "Python 3 (ipykernel)",
   "language": "python",
   "name": "python3"
  },
  "language_info": {
   "codemirror_mode": {
    "name": "ipython",
    "version": 3
   },
   "file_extension": ".py",
   "mimetype": "text/x-python",
   "name": "python",
   "nbconvert_exporter": "python",
   "pygments_lexer": "ipython3",
   "version": "3.9.7"
  }
 },
 "nbformat": 4,
 "nbformat_minor": 5
}
