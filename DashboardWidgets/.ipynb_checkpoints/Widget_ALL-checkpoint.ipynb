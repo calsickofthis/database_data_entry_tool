{
 "cells": [
  {
   "cell_type": "code",
   "execution_count": null,
   "id": "44c090ca-7813-4f64-83b7-e080c58142ff",
   "metadata": {},
   "outputs": [],
   "source": [
    "import ipywidgets as widgets\n",
    "from IPython.display import display"
   ]
  },
  {
   "cell_type": "code",
   "execution_count": null,
   "id": "1ed24b90-e07a-4886-8125-1aa14a9c545c",
   "metadata": {},
   "outputs": [],
   "source": [
    "widgets.IntSlider()"
   ]
  },
  {
   "cell_type": "code",
   "execution_count": null,
   "id": "fe8b9833-ba29-41d9-a6ab-e7e8cc62a521",
   "metadata": {},
   "outputs": [],
   "source": [
    "w = widgets.IntSlider()\n",
    "display(w)"
   ]
  },
  {
   "cell_type": "code",
   "execution_count": null,
   "id": "e4d1434d-925e-4986-af1d-4b8ffa1b502c",
   "metadata": {},
   "outputs": [],
   "source": [
    "w.value"
   ]
  },
  {
   "cell_type": "code",
   "execution_count": null,
   "id": "053f5ef6-8f5b-44a8-a2f4-03c7275df8ab",
   "metadata": {},
   "outputs": [],
   "source": [
    "abc = widgets.SelectMultiple(\n",
    "    options=['Apples', 'Oranges', 'Pears'],\n",
    "    value=['Oranges'],\n",
    "    #rows=10,\n",
    "    description='Fruits',\n",
    "    disabled=False\n",
    ")\n",
    "\n",
    "display(abc)"
   ]
  },
  {
   "cell_type": "code",
   "execution_count": null,
   "id": "cfe69a45-ee68-441a-b871-edd615b18417",
   "metadata": {},
   "outputs": [],
   "source": [
    "abc.value"
   ]
  },
  {
   "cell_type": "code",
   "execution_count": null,
   "id": "aea838cd-4f03-46c2-a4cb-16f7029e0258",
   "metadata": {},
   "outputs": [],
   "source": [
    "import datetime\n",
    "DT = widgets.DatePicker(\n",
    "    description='Pick a Date',\n",
    "    disabled=False\n",
    ")\n",
    "\n",
    "display(DT)"
   ]
  },
  {
   "cell_type": "code",
   "execution_count": null,
   "id": "3caaaef0-4432-4326-b8a4-4048466ac4d9",
   "metadata": {},
   "outputs": [],
   "source": [
    "DT.value"
   ]
  },
  {
   "cell_type": "code",
   "execution_count": null,
   "id": "b6dbbaea-feb2-4b3c-983a-39dc884a5b65",
   "metadata": {},
   "outputs": [],
   "source": [
    "data = datetime.datetime.combine(DT.value, datetime.time(10, 23))\n",
    "\n",
    "epoch = data.timestamp()\n",
    "print(epoch)"
   ]
  },
  {
   "cell_type": "code",
   "execution_count": null,
   "id": "d1621668-f7a4-4e75-a744-992a124ab222",
   "metadata": {},
   "outputs": [],
   "source": [
    "\n"
   ]
  },
  {
   "cell_type": "code",
   "execution_count": null,
   "id": "d771f159-0d85-40c4-9e7f-6b4d3be98269",
   "metadata": {},
   "outputs": [],
   "source": [
    "abc = widgets.SelectMultiple(\n",
    "    options=[('Apples','1'), ('Oranges','2'), ('Bananas','3')],\n",
    "    #value=['Oranges'],\n",
    "    #rows=10,\n",
    "    description='Fruits',\n",
    "    disabled=False\n",
    ")\n",
    "\n",
    "display(abc)"
   ]
  },
  {
   "cell_type": "code",
   "execution_count": null,
   "id": "5a00acff-964b-4e29-bab3-b4608118cf22",
   "metadata": {},
   "outputs": [],
   "source": [
    "abc = widgets.SelectMultiple(\n",
    "    options=l4,\n",
    "    #value=['Oranges'],\n",
    "    #rows=10,\n",
    "    description='Fruits',\n",
    "    disabled=False\n",
    ")\n",
    "\n",
    "display(abc)"
   ]
  },
  {
   "cell_type": "code",
   "execution_count": null,
   "id": "4671a7b4-443e-45a4-ba15-64c4886baea6",
   "metadata": {},
   "outputs": [],
   "source": [
    "abc.value"
   ]
  },
  {
   "cell_type": "code",
   "execution_count": null,
   "id": "c8e80e67-8cdf-4e3f-8d1d-09ef3a6bf877",
   "metadata": {},
   "outputs": [],
   "source": [
    "d1 = {'x':1,'y':2,'z':3}\n",
    "l4 = list(zip(d1.keys(), d1.values()))\n",
    "print(l4)"
   ]
  },
  {
   "cell_type": "code",
   "execution_count": null,
   "id": "ed172cf1-77f6-4673-9cbc-221831a86e45",
   "metadata": {},
   "outputs": [],
   "source": []
  }
 ],
 "metadata": {
  "kernelspec": {
   "display_name": "Python 3 (ipykernel)",
   "language": "python",
   "name": "python3"
  },
  "language_info": {
   "codemirror_mode": {
    "name": "ipython",
    "version": 3
   },
   "file_extension": ".py",
   "mimetype": "text/x-python",
   "name": "python",
   "nbconvert_exporter": "python",
   "pygments_lexer": "ipython3",
   "version": "3.9.7"
  }
 },
 "nbformat": 4,
 "nbformat_minor": 5
}
